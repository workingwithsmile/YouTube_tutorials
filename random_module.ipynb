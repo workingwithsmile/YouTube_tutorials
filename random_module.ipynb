{
  "nbformat": 4,
  "nbformat_minor": 0,
  "metadata": {
    "colab": {
      "name": "random_module.ipynb",
      "provenance": []
    },
    "kernelspec": {
      "name": "python3",
      "display_name": "Python 3"
    },
    "language_info": {
      "name": "python"
    }
  },
  "cells": [
    {
      "cell_type": "markdown",
      "metadata": {
        "id": "cgVUWuOgFo7S"
      },
      "source": [
        "# **random module of Python Programming Language**"
      ]
    },
    {
      "cell_type": "markdown",
      "metadata": {
        "id": "CAQN52rdGElQ"
      },
      "source": [
        "##random()"
      ]
    },
    {
      "cell_type": "code",
      "metadata": {
        "id": "qMLM-CHTFnlv",
        "colab": {
          "base_uri": "https://localhost:8080/"
        },
        "outputId": "25a2227a-eded-4efa-9dfc-940980ebbe7a"
      },
      "source": [
        "import random\n",
        "print(random.random())      # floating point value from 0 to less than 1"
      ],
      "execution_count": 2,
      "outputs": [
        {
          "output_type": "stream",
          "name": "stdout",
          "text": [
            "0.0679351600463225\n"
          ]
        }
      ]
    },
    {
      "cell_type": "markdown",
      "metadata": {
        "id": "-915NKigjjs9"
      },
      "source": [
        "# uniform()"
      ]
    },
    {
      "cell_type": "code",
      "metadata": {
        "colab": {
          "base_uri": "https://localhost:8080/"
        },
        "id": "cdaD4gBKjoGn",
        "outputId": "66819a24-bcf0-4d99-d8fb-91f371bd4fc4"
      },
      "source": [
        "print(random.uniform(3,7))      # floating point value from 3 to less than 7"
      ],
      "execution_count": 3,
      "outputs": [
        {
          "output_type": "stream",
          "name": "stdout",
          "text": [
            "6.301356211228041\n"
          ]
        }
      ]
    },
    {
      "cell_type": "markdown",
      "metadata": {
        "id": "GRZ2oxyFGKFn"
      },
      "source": [
        "## randrange()"
      ]
    },
    {
      "cell_type": "code",
      "metadata": {
        "id": "_dIHFKnkGOSQ",
        "colab": {
          "base_uri": "https://localhost:8080/"
        },
        "outputId": "7e165550-20a1-4b7c-bb8d-57ee383cfdd1"
      },
      "source": [
        "print(random.randrange(3,7))    # generate random numbers from 3 to (7-1)"
      ],
      "execution_count": 15,
      "outputs": [
        {
          "output_type": "stream",
          "name": "stdout",
          "text": [
            "6\n"
          ]
        }
      ]
    },
    {
      "cell_type": "markdown",
      "metadata": {
        "id": "X4A7l9CrGU5R"
      },
      "source": [
        "## randint()"
      ]
    },
    {
      "cell_type": "code",
      "metadata": {
        "id": "fR8TnVcLGVNR",
        "colab": {
          "base_uri": "https://localhost:8080/"
        },
        "outputId": "e9ab2c76-61cf-4b64-bc2b-21736d4685cf"
      },
      "source": [
        "print(random.randint(2,7))  # generates random numbers from 2 to 7 both included"
      ],
      "execution_count": 14,
      "outputs": [
        {
          "output_type": "stream",
          "name": "stdout",
          "text": [
            "6\n"
          ]
        }
      ]
    },
    {
      "cell_type": "markdown",
      "metadata": {
        "id": "neS0H2WCGYFN"
      },
      "source": [
        "## getstate() & setstate()"
      ]
    },
    {
      "cell_type": "code",
      "metadata": {
        "id": "xKAP1cQvGasd",
        "colab": {
          "base_uri": "https://localhost:8080/"
        },
        "outputId": "d3f900e3-362a-441e-9c7d-32d616211cc6"
      },
      "source": [
        "import random\n",
        "print(random.random())\n",
        "S=random.getstate()\n",
        "print(random.random())\n",
        "random.setstate(S)\n",
        "print(random.random())\n"
      ],
      "execution_count": 13,
      "outputs": [
        {
          "output_type": "stream",
          "name": "stdout",
          "text": [
            "0.18038065171988538\n",
            "0.8004990714900057\n",
            "0.8004990714900057\n"
          ]
        }
      ]
    },
    {
      "cell_type": "markdown",
      "metadata": {
        "id": "w95h0FaVGeOx"
      },
      "source": [
        "## choice"
      ]
    },
    {
      "cell_type": "code",
      "metadata": {
        "id": "5mQTrw6bGiIb",
        "colab": {
          "base_uri": "https://localhost:8080/"
        },
        "outputId": "8e603062-2a23-4ac9-ec3c-075d5baa5ffe"
      },
      "source": [
        "# Returns a list with the randomly selected element from list L\n",
        "# The sequence can be a string, a range, a list, a tuple or any other kind of sequence.\n",
        "# k refers to the length of the randomly selected elements\n",
        "# Elements selected randomly can repeat\n",
        "\n",
        "S='Python'\n",
        "print(random.choice(S))"
      ],
      "execution_count": 11,
      "outputs": [
        {
          "output_type": "stream",
          "name": "stdout",
          "text": [
            "o\n"
          ]
        }
      ]
    },
    {
      "cell_type": "markdown",
      "metadata": {
        "id": "DB3fX_akGisS"
      },
      "source": [
        "## choices()"
      ]
    },
    {
      "cell_type": "code",
      "metadata": {
        "id": "WmyXSAAuGkOO",
        "colab": {
          "base_uri": "https://localhost:8080/"
        },
        "outputId": "4107410e-d7a5-4379-a046-8e21509d4693"
      },
      "source": [
        "# Returns a list with multiple randomly selected elements from list L\n",
        "# You can weigh the possibility of each outcome using weights parameter or the cum_weights parameter.\n",
        "# The sequence can be a string, a range, a list, a tuple or any other kind of sequence.\n",
        "# k refers to the length of the randomly selected elements \n",
        "\n",
        "L=[1,2,3,4]\n",
        "print(random.choices(L,weights=[0,3,1,1],k=2))"
      ],
      "execution_count": 12,
      "outputs": [
        {
          "output_type": "stream",
          "name": "stdout",
          "text": [
            "[2, 2]\n"
          ]
        }
      ]
    },
    {
      "cell_type": "markdown",
      "metadata": {
        "id": "whcwQqylGlGD"
      },
      "source": [
        "## shuffle()"
      ]
    },
    {
      "cell_type": "code",
      "metadata": {
        "id": "YURyEImGGkUz"
      },
      "source": [
        "# It shuffles the elements(in place) of mutable type variable like list\n",
        "L=[1,2,3,4]\n",
        "random.shuffle(L)\n",
        "print(L)"
      ],
      "execution_count": null,
      "outputs": []
    },
    {
      "cell_type": "markdown",
      "metadata": {
        "id": "HT6r7iy-kYyV"
      },
      "source": [
        "# sample()"
      ]
    },
    {
      "cell_type": "code",
      "metadata": {
        "colab": {
          "base_uri": "https://localhost:8080/"
        },
        "id": "1OmjiPgkkcR0",
        "outputId": "5c6aa1b3-b46e-4da5-d4aa-d6c657f5aaf5"
      },
      "source": [
        "# It creates a sample which will hold randomly selected elements from the sequence\n",
        "# Elements will not repeat\n",
        "\n",
        "L=[1,2,3,4,5,6]\n",
        "S=random.sample(L,3)\n",
        "print(S)"
      ],
      "execution_count": 5,
      "outputs": [
        {
          "output_type": "stream",
          "name": "stdout",
          "text": [
            "[1, 2, 3]\n"
          ]
        }
      ]
    }
  ]
}